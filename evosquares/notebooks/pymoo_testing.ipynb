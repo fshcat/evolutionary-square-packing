{
 "cells": [
  {
   "cell_type": "code",
   "execution_count": 1,
   "id": "b343833f",
   "metadata": {},
   "outputs": [
    {
     "ename": "ModuleNotFoundError",
     "evalue": "No module named 'operators'",
     "output_type": "error",
     "traceback": [
      "\u001b[0;31m---------------------------------------------------------------------------\u001b[0m",
      "\u001b[0;31mModuleNotFoundError\u001b[0m                       Traceback (most recent call last)",
      "Cell \u001b[0;32mIn[1], line 14\u001b[0m\n\u001b[1;32m     11\u001b[0m \u001b[38;5;28;01mfrom\u001b[39;00m \u001b[38;5;21;01mmatplotlib\u001b[39;00m \u001b[38;5;28;01mimport\u001b[39;00m pyplot \u001b[38;5;28;01mas\u001b[39;00m plt\n\u001b[1;32m     13\u001b[0m \u001b[38;5;28;01mimport\u001b[39;00m \u001b[38;5;21;01mevosquares\u001b[39;00m\u001b[38;5;21;01m.\u001b[39;00m\u001b[38;5;21;01mperturbations\u001b[39;00m\n\u001b[0;32m---> 14\u001b[0m \u001b[38;5;28;01mfrom\u001b[39;00m \u001b[38;5;21;01mevosquares\u001b[39;00m\u001b[38;5;21;01m.\u001b[39;00m\u001b[38;5;21;01moperators\u001b[39;00m\u001b[38;5;21;01m.\u001b[39;00m\u001b[38;5;21;01mcrossover\u001b[39;00m \u001b[38;5;28;01mimport\u001b[39;00m \u001b[38;5;241m*\u001b[39m\n\u001b[1;32m     15\u001b[0m \u001b[38;5;28;01mfrom\u001b[39;00m \u001b[38;5;21;01mevosquares\u001b[39;00m\u001b[38;5;21;01m.\u001b[39;00m\u001b[38;5;21;01moperators\u001b[39;00m\u001b[38;5;21;01m.\u001b[39;00m\u001b[38;5;21;01mmutation\u001b[39;00m \u001b[38;5;28;01mimport\u001b[39;00m \u001b[38;5;241m*\u001b[39m\n\u001b[1;32m     17\u001b[0m \u001b[38;5;28;01mfrom\u001b[39;00m \u001b[38;5;21;01mpymoo\u001b[39;00m\u001b[38;5;21;01m.\u001b[39;00m\u001b[38;5;21;01malgorithms\u001b[39;00m\u001b[38;5;21;01m.\u001b[39;00m\u001b[38;5;21;01msoo\u001b[39;00m\u001b[38;5;21;01m.\u001b[39;00m\u001b[38;5;21;01mnonconvex\u001b[39;00m\u001b[38;5;21;01m.\u001b[39;00m\u001b[38;5;21;01mga\u001b[39;00m \u001b[38;5;28;01mimport\u001b[39;00m GA\n",
      "File \u001b[0;32m~/evosquare/evosquares/operators/crossover.py:2\u001b[0m\n\u001b[1;32m      1\u001b[0m \u001b[38;5;28;01mfrom\u001b[39;00m \u001b[38;5;21;01mevosquares\u001b[39;00m \u001b[38;5;28;01mimport\u001b[39;00m perturbations\n\u001b[0;32m----> 2\u001b[0m \u001b[38;5;28;01mfrom\u001b[39;00m \u001b[38;5;21;01moperators\u001b[39;00m\u001b[38;5;21;01m.\u001b[39;00m\u001b[38;5;21;01mutils\u001b[39;00m \u001b[38;5;28;01mimport\u001b[39;00m sort_closest\n\u001b[1;32m      3\u001b[0m \u001b[38;5;28;01mimport\u001b[39;00m \u001b[38;5;21;01mnumpy\u001b[39;00m \u001b[38;5;28;01mas\u001b[39;00m \u001b[38;5;21;01mnp\u001b[39;00m \n\u001b[1;32m      5\u001b[0m \u001b[38;5;28;01mdef\u001b[39;00m \u001b[38;5;21mmatch_swap_crossover\u001b[39m(X, n_closest\u001b[38;5;241m=\u001b[39m\u001b[38;5;241m1\u001b[39m, repair_steps\u001b[38;5;241m=\u001b[39m\u001b[38;5;241m0\u001b[39m, repair_size\u001b[38;5;241m=\u001b[39m\u001b[38;5;241m0\u001b[39m):\n\u001b[1;32m      6\u001b[0m     \u001b[38;5;66;03m# The input has the following shape (n_parents, n_matings, n_var)\u001b[39;00m\n",
      "\u001b[0;31mModuleNotFoundError\u001b[0m: No module named 'operators'"
     ]
    }
   ],
   "source": [
    "import os\n",
    "import sys\n",
    "\n",
    "PROJECT_ROOT = os.path.abspath(os.path.join(\n",
    "                  os.path.dirname(sys.path[0]), \n",
    "                  os.pardir)\n",
    ")\n",
    "sys.path.append(PROJECT_ROOT)\n",
    "\n",
    "import numpy as np\n",
    "from matplotlib import pyplot as plt\n",
    "\n",
    "import evosquares.perturbations\n",
    "from evosquares.operators.crossover import *\n",
    "from evosquares.operators.mutation import *\n",
    "\n",
    "from pymoo.algorithms.soo.nonconvex.ga import GA\n",
    "from pymoo.algorithms.moo.nsga2 import NSGA2\n",
    "from pymoo.algorithms.moo.dnsga2 import DNSGA2\n",
    "from pymoo.core.problem import ElementwiseProblem\n",
    "from pymoo.core.problem import Problem\n",
    "from pymoo.optimize import minimize\n",
    "from pymoo.operators.crossover.ux import UniformCrossover\n",
    "from pymoo.core.crossover import Crossover\n",
    "from pymoo.core.duplicate import ElementwiseDuplicateElimination\n",
    "from pymoo.core.mutation import Mutation\n",
    "from pymoo.operators.selection.rnd import RandomSelection\n",
    "from pymoo.core.sampling import Sampling\n",
    "\n",
    "import scipy\n",
    "from functools import partial\n",
    "import multiprocessing as mp"
   ]
  },
  {
   "cell_type": "code",
   "execution_count": null,
   "id": "d15192ec",
   "metadata": {},
   "outputs": [],
   "source": [
    "class MatchSwapCrossover(Crossover):\n",
    "    def __init__(self, n_closest, repair_steps=0, repair_size=0, **kwargs):\n",
    "        # define the crossover: number of parents and number of offsprings\n",
    "        self.n_closest = n_closest\n",
    "        self.repair_steps = repair_steps\n",
    "        self.repair_size = repair_size\n",
    "        super().__init__(2, 2, **kwargs)\n",
    "\n",
    "    def _do(self, problem, X, **kwargs):\n",
    "        return match_swap_crossover(X, self.n_closest, self.repair_steps, self.repair_size)"
   ]
  },
  {
   "cell_type": "code",
   "execution_count": null,
   "id": "98204385",
   "metadata": {},
   "outputs": [],
   "source": [
    "class RandomSwapCrossover(Crossover):\n",
    "    def __init__(self, n_closest, repair_steps=0, repair_size=0, **kwargs):\n",
    "        # define the crossover: number of parents and number of offsprings\n",
    "        self.n_closest = n_closest\n",
    "        self.repair_steps = repair_steps\n",
    "        self.repair_size = repair_size\n",
    "        super().__init__(2, 2, **kwargs)\n",
    "\n",
    "    def _do(self, problem, X, **kwargs):\n",
    "        return random_swap_crossover(X, self.n_closest, self.repair_steps, self.repair_size)"
   ]
  },
  {
   "cell_type": "code",
   "execution_count": null,
   "id": "4d22c56c",
   "metadata": {},
   "outputs": [],
   "source": [
    "class SquareDuplicateElim(ElementwiseDuplicateElimination):\n",
    "    def is_equal(self, a, b):\n",
    "        return np.array_equal(a, b)"
   ]
  },
  {
   "cell_type": "code",
   "execution_count": null,
   "id": "50749a04",
   "metadata": {},
   "outputs": [],
   "source": [
    "class CombinedMutation(Mutation):\n",
    "    def __init__(self, mutation_list):\n",
    "        self.mutation_list = mutation_list\n",
    "        super().__init__()\n",
    "\n",
    "    def _do(self, problem, X, **kwargs):\n",
    "        for mutation_op in self.mutation_list:\n",
    "            X = mutation_op(X)\n",
    "        \n",
    "        return X"
   ]
  },
  {
   "cell_type": "code",
   "execution_count": null,
   "id": "f58b06d9",
   "metadata": {},
   "outputs": [],
   "source": [
    "class PerturbSampling(Sampling):\n",
    "    def __init__(self, n, **kwargs):\n",
    "        self.n = n\n",
    "        self.num = np.ceil(np.sqrt(self.n)).astype('int')\n",
    "        super().__init__(**kwargs)\n",
    "        \n",
    "    def _do(self, problem, n_samples, **kwargs):\n",
    "        num = self.num\n",
    "        size = 2 / num\n",
    "        \n",
    "        ls = np.linspace(start=-1 + size/2, stop=1 - size/2, num=num)\n",
    "        np.random.shuffle(ls)\n",
    "        \n",
    "        inds = np.random.permutation(num*num)[:self.n]\n",
    "        x = np.tile(np.expand_dims(np.tile(ls, num), 0), (n_samples, 1))[:, inds]\n",
    "        y = np.tile(np.expand_dims(np.repeat(ls, num), 0), (n_samples, 1))[:, inds]\n",
    "        t = np.random.random(size=x.shape) * np.pi/2\n",
    "        new_x, new_y, new_t = perturbations.uniform_shift_square(x, y, t, size/20)\n",
    "        X = np.concatenate((new_x, new_y, new_t), axis=1)\n",
    "        \n",
    "        return X"
   ]
  },
  {
   "cell_type": "code",
   "execution_count": null,
   "id": "2354eac6",
   "metadata": {
    "scrolled": false
   },
   "outputs": [],
   "source": [
    "ns = 29\n",
    "samp = PerturbSampling(ns)\n",
    "gen = samp._do(None, 1)\n",
    "print(gen.shape)\n",
    "perturbations.draw_squares(gen[0])"
   ]
  },
  {
   "cell_type": "code",
   "execution_count": null,
   "id": "9b5b9e0e",
   "metadata": {},
   "outputs": [],
   "source": [
    "# definition of square packing problem\n",
    "class SquarePacking(Problem):\n",
    "    def __init__(self, n):\n",
    "        self.n = n        \n",
    "\n",
    "        # representation is array of size 3n\n",
    "        # first n is X coord of centers, then Y coords, then angles\n",
    "        xl = np.concatenate((np.full(n, fill_value= -1), np.full(n, fill_value= -1), np.full(n, fill_value=0)))\n",
    "        xu = np.concatenate((np.full(n, fill_value= 1), np.full(n, fill_value= 1), np.full(n, fill_value=np.pi/2)))\n",
    "        \n",
    "        super().__init__(n_var=3*n, n_obj=1, xl=xl, xu=xu, n_constr=0)\n",
    "        \n",
    "    def _evaluate(self, x, out, *args, **kwargs):\n",
    "        bound_size = perturbations.find_bound(x)\n",
    "        angles = x[:, -self.n:]\n",
    "        #angle_variance = scipy.stats.circvar((x[:, -self.n:]), high=np.pi/2, low=0, axis=1)\n",
    "        #angle_dist1 = np.mean(np.abs((x[:, -self.n:]) - np.pi/4), axis=1)        \n",
    "        #angle_dist2 = np.mean(np.minimum(np.abs((x[:, -self.n:]) - np.pi/2), np.abs((x[:, -self.n:]))), axis=1)\n",
    "        out[\"F\"] = [bound_size]\n",
    "            "
   ]
  },
  {
   "cell_type": "code",
   "execution_count": null,
   "id": "0798e6a2",
   "metadata": {},
   "outputs": [],
   "source": [
    "def experiment(proc_num, return_dict, n, seed):\n",
    "    mag = 2 / np.ceil(np.sqrt(n))\n",
    "    problem = SquarePacking(n=n)\n",
    "\n",
    "    # define mutations\n",
    "    correction_mutation = partial(random_walk_mutation, walk_prob=0.5, walk_steps=(n*8,), walk_size=(mag/16,), no_theta_prob=0.8)\n",
    "    exploration_mutation = partial(perturb_mutation, perturb_prob=0.2, perturb_num=int(n/2), perturb_size=mag*2)\n",
    "    rot_mutation = partial(rotation_mutation, rot_prob=0.2, rot_max_num=int(n/4), rot_size=np.pi/4)\n",
    "\n",
    "    mutation = CombinedMutation([rot_mutation, exploration_mutation, correction_mutation])\n",
    "\n",
    "    # define crossover\n",
    "    crossover= RandomSwapCrossover(prob=0.5, n_closest=n)\n",
    "\n",
    "    #algorithm = NSGA2(pop_size=100, crossover=crossover, mutation=mutation, eliminate_duplicates=None, sampling=PerturbSampling(n))\n",
    "    algorithm = GA(pop_size=100, crossover=crossover, mutation=mutation, eliminate_duplicates=None)\n",
    "    res = minimize(problem, algorithm, ('n_gen', 1000), seed=seed, verbose=proc_num == 0)\n",
    "    \n",
    "    return_dict[proc_num] = res"
   ]
  },
  {
   "cell_type": "code",
   "execution_count": null,
   "id": "25668c87",
   "metadata": {
    "scrolled": true
   },
   "outputs": [],
   "source": [
    "n = 29\n",
    "mag = 2 / np.ceil(np.sqrt(n))\n",
    "\n",
    "# p1, p2, p3\n",
    "arg_list = [(np.random.randint(100), ) for _ in range(8)]\n",
    "\n",
    "manager = mp.Manager()\n",
    "return_dict = manager.dict()\n",
    "\n",
    "jobs = []\n",
    "for i, args in enumerate(arg_list):\n",
    "    p = mp.Process(target=experiment, args=(i, return_dict, n, *args))\n",
    "    jobs.append(p)\n",
    "    p.start()\n",
    "\n",
    "for proc in jobs:\n",
    "    proc.join()"
   ]
  },
  {
   "cell_type": "code",
   "execution_count": null,
   "id": "5b2b6796",
   "metadata": {
    "scrolled": true
   },
   "outputs": [],
   "source": [
    "# find the solution with num_overlapping overlapping squares with the smallest bounding box\n",
    "vals = return_dict.values()\n",
    "vals = [(data.X, data.F) for data in vals]\n",
    "print(min(vals, key=lambda x: x[1])[1])\n",
    "print(np.mean([d[1] for d in vals]))\n",
    "for i, args in enumerate(arg_list):\n",
    "    print(args, return_dict[i].F)\n",
    "    perturbations.draw_squares(return_dict[i].X)"
   ]
  },
  {
   "cell_type": "code",
   "execution_count": null,
   "id": "86903cff",
   "metadata": {},
   "outputs": [],
   "source": [
    "# find the solution with num_overlapping overlapping squares with the smallest bounding box\n",
    "num_overlapping = 0\n",
    "print(res.X.shape)\n",
    "best_x = res.X[0]\n",
    "best_size = res.F[0][0]\n",
    "sorted_XF = sorted(zip(res.X, res.F), key=lambda p: p[1][0])\n",
    "\n",
    "fig, axs = plt.subplots(3, 3)\n",
    "fig.set_size_inches(7, 7)\n",
    "for i, ax in enumerate(axs.flatten()):\n",
    "    perturbations.subplot_squares(ax, sorted_XF[i][0])\n",
    "    ax.set_title(sorted_XF[i][1][0])\n",
    "    ax.axis('off')"
   ]
  },
  {
   "cell_type": "code",
   "execution_count": null,
   "id": "79f53577",
   "metadata": {},
   "outputs": [],
   "source": [
    "fine_tuned_best = perturbations.with_perturbations(best_x, 0.1, 10e-8, 1.5, 500)\n",
    "print(np.sqrt(2) / perturbations.find_max_size(fine_tuned_best))\n",
    "perturbations.draw_squares(fine_tuned_best)"
   ]
  }
 ],
 "metadata": {
  "kernelspec": {
   "display_name": "Python 3 (ipykernel)",
   "language": "python",
   "name": "python3"
  },
  "language_info": {
   "codemirror_mode": {
    "name": "ipython",
    "version": 3
   },
   "file_extension": ".py",
   "mimetype": "text/x-python",
   "name": "python",
   "nbconvert_exporter": "python",
   "pygments_lexer": "ipython3",
   "version": "3.8.10"
  },
  "vscode": {
   "interpreter": {
    "hash": "a5da37756a7b1403a76c2d827d8fa2915e8b01db7321dc58a989930717e1fff9"
   }
  }
 },
 "nbformat": 4,
 "nbformat_minor": 5
}
